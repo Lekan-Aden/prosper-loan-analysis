{
 "cells": [
  {
   "cell_type": "markdown",
   "metadata": {},
   "source": [
    "# Part I - (Dataset Exploration Title)\n",
    "## by Lekan Adenusi\n",
    "\n",
    "## Introduction\n",
    "The dataset used in this project is the Prosper Loan Data, provided by Udacity. This data 113,937 loans with 81 variables on each loan, including loan amount, borrower rate (or interest rate), current loan status, borrower income, and many others.\n",
    "\n",
    "\n",
    "## Preliminary Wrangling\n"
   ]
  },
  {
   "cell_type": "code",
   "execution_count": 1,
   "metadata": {
    "cell_style": "center"
   },
   "outputs": [],
   "source": [
    "import pandas as pd\n",
    "import matplotlib.pyplot as plt\n",
    "import seaborn as sns\n",
    "import numpy as np\n",
    "\n",
    "%matplotlib inline\n",
    "pd.set_option('display.max_columns', None)\n",
    "pd.set_option('display.max_rows', 100)"
   ]
  },
  {
   "cell_type": "code",
   "execution_count": 2,
   "metadata": {},
   "outputs": [],
   "source": [
    "# Load the dataset\n",
    "loan_df = pd.read_csv('../prosperLoanData.csv',)"
   ]
  },
  {
   "cell_type": "code",
   "execution_count": 3,
   "metadata": {},
   "outputs": [
    {
     "name": "stdout",
     "output_type": "stream",
     "text": [
      "Dataset shape: 113937 rows and 81 columns\n"
     ]
    }
   ],
   "source": [
    "# Display the shape of the data\n",
    "print('Dataset shape: {} rows and {} columns'.format(*loan_df.shape))"
   ]
  },
  {
   "cell_type": "code",
   "execution_count": 4,
   "metadata": {},
   "outputs": [
    {
     "data": {
      "text/plain": [
       "{dtype('bool'), dtype('int64'), dtype('float64'), dtype('O')}"
      ]
     },
     "execution_count": 4,
     "metadata": {},
     "output_type": "execute_result"
    }
   ],
   "source": [
    "# Print Datatypes\n",
    "set(loan_df.dtypes)"
   ]
  },
  {
   "cell_type": "code",
   "execution_count": 5,
   "metadata": {},
   "outputs": [
    {
     "data": {
      "text/html": [
       "<div>\n",
       "<style scoped>\n",
       "    .dataframe tbody tr th:only-of-type {\n",
       "        vertical-align: middle;\n",
       "    }\n",
       "\n",
       "    .dataframe tbody tr th {\n",
       "        vertical-align: top;\n",
       "    }\n",
       "\n",
       "    .dataframe thead th {\n",
       "        text-align: right;\n",
       "    }\n",
       "</style>\n",
       "<table border=\"1\" class=\"dataframe\">\n",
       "  <thead>\n",
       "    <tr style=\"text-align: right;\">\n",
       "      <th></th>\n",
       "      <th>ListingKey</th>\n",
       "      <th>ListingNumber</th>\n",
       "      <th>ListingCreationDate</th>\n",
       "      <th>CreditGrade</th>\n",
       "      <th>Term</th>\n",
       "      <th>LoanStatus</th>\n",
       "      <th>ClosedDate</th>\n",
       "      <th>BorrowerAPR</th>\n",
       "      <th>BorrowerRate</th>\n",
       "      <th>LenderYield</th>\n",
       "      <th>EstimatedEffectiveYield</th>\n",
       "      <th>EstimatedLoss</th>\n",
       "      <th>EstimatedReturn</th>\n",
       "      <th>ProsperRating (numeric)</th>\n",
       "      <th>ProsperRating (Alpha)</th>\n",
       "      <th>ProsperScore</th>\n",
       "      <th>ListingCategory (numeric)</th>\n",
       "      <th>BorrowerState</th>\n",
       "      <th>Occupation</th>\n",
       "      <th>EmploymentStatus</th>\n",
       "      <th>EmploymentStatusDuration</th>\n",
       "      <th>IsBorrowerHomeowner</th>\n",
       "      <th>CurrentlyInGroup</th>\n",
       "      <th>GroupKey</th>\n",
       "      <th>DateCreditPulled</th>\n",
       "      <th>CreditScoreRangeLower</th>\n",
       "      <th>CreditScoreRangeUpper</th>\n",
       "      <th>FirstRecordedCreditLine</th>\n",
       "      <th>CurrentCreditLines</th>\n",
       "      <th>OpenCreditLines</th>\n",
       "      <th>TotalCreditLinespast7years</th>\n",
       "      <th>OpenRevolvingAccounts</th>\n",
       "      <th>OpenRevolvingMonthlyPayment</th>\n",
       "      <th>InquiriesLast6Months</th>\n",
       "      <th>TotalInquiries</th>\n",
       "      <th>CurrentDelinquencies</th>\n",
       "      <th>AmountDelinquent</th>\n",
       "      <th>DelinquenciesLast7Years</th>\n",
       "      <th>PublicRecordsLast10Years</th>\n",
       "      <th>PublicRecordsLast12Months</th>\n",
       "      <th>RevolvingCreditBalance</th>\n",
       "      <th>BankcardUtilization</th>\n",
       "      <th>AvailableBankcardCredit</th>\n",
       "      <th>TotalTrades</th>\n",
       "      <th>TradesNeverDelinquent (percentage)</th>\n",
       "      <th>TradesOpenedLast6Months</th>\n",
       "      <th>DebtToIncomeRatio</th>\n",
       "      <th>IncomeRange</th>\n",
       "      <th>IncomeVerifiable</th>\n",
       "      <th>StatedMonthlyIncome</th>\n",
       "      <th>LoanKey</th>\n",
       "      <th>TotalProsperLoans</th>\n",
       "      <th>TotalProsperPaymentsBilled</th>\n",
       "      <th>OnTimeProsperPayments</th>\n",
       "      <th>ProsperPaymentsLessThanOneMonthLate</th>\n",
       "      <th>ProsperPaymentsOneMonthPlusLate</th>\n",
       "      <th>ProsperPrincipalBorrowed</th>\n",
       "      <th>ProsperPrincipalOutstanding</th>\n",
       "      <th>ScorexChangeAtTimeOfListing</th>\n",
       "      <th>LoanCurrentDaysDelinquent</th>\n",
       "      <th>LoanFirstDefaultedCycleNumber</th>\n",
       "      <th>LoanMonthsSinceOrigination</th>\n",
       "      <th>LoanNumber</th>\n",
       "      <th>LoanOriginalAmount</th>\n",
       "      <th>LoanOriginationDate</th>\n",
       "      <th>LoanOriginationQuarter</th>\n",
       "      <th>MemberKey</th>\n",
       "      <th>MonthlyLoanPayment</th>\n",
       "      <th>LP_CustomerPayments</th>\n",
       "      <th>LP_CustomerPrincipalPayments</th>\n",
       "      <th>LP_InterestandFees</th>\n",
       "      <th>LP_ServiceFees</th>\n",
       "      <th>LP_CollectionFees</th>\n",
       "      <th>LP_GrossPrincipalLoss</th>\n",
       "      <th>LP_NetPrincipalLoss</th>\n",
       "      <th>LP_NonPrincipalRecoverypayments</th>\n",
       "      <th>PercentFunded</th>\n",
       "      <th>Recommendations</th>\n",
       "      <th>InvestmentFromFriendsCount</th>\n",
       "      <th>InvestmentFromFriendsAmount</th>\n",
       "      <th>Investors</th>\n",
       "    </tr>\n",
       "  </thead>\n",
       "  <tbody>\n",
       "    <tr>\n",
       "      <th>0</th>\n",
       "      <td>1021339766868145413AB3B</td>\n",
       "      <td>193129</td>\n",
       "      <td>2007-08-26 19:09:29.263</td>\n",
       "      <td>C</td>\n",
       "      <td>36</td>\n",
       "      <td>Completed</td>\n",
       "      <td>2009-08-14</td>\n",
       "      <td>0.16516</td>\n",
       "      <td>0.1580</td>\n",
       "      <td>0.1380</td>\n",
       "      <td>NaN</td>\n",
       "      <td>NaN</td>\n",
       "      <td>NaN</td>\n",
       "      <td>NaN</td>\n",
       "      <td>NaN</td>\n",
       "      <td>NaN</td>\n",
       "      <td>0</td>\n",
       "      <td>CO</td>\n",
       "      <td>Other</td>\n",
       "      <td>Self-employed</td>\n",
       "      <td>2.0</td>\n",
       "      <td>True</td>\n",
       "      <td>True</td>\n",
       "      <td>NaN</td>\n",
       "      <td>2007-08-26 18:41:46.780</td>\n",
       "      <td>640.0</td>\n",
       "      <td>659.0</td>\n",
       "      <td>2001-10-11 00:00:00</td>\n",
       "      <td>5.0</td>\n",
       "      <td>4.0</td>\n",
       "      <td>12.0</td>\n",
       "      <td>1</td>\n",
       "      <td>24.0</td>\n",
       "      <td>3.0</td>\n",
       "      <td>3.0</td>\n",
       "      <td>2.0</td>\n",
       "      <td>472.0</td>\n",
       "      <td>4.0</td>\n",
       "      <td>0.0</td>\n",
       "      <td>0.0</td>\n",
       "      <td>0.0</td>\n",
       "      <td>0.00</td>\n",
       "      <td>1500.0</td>\n",
       "      <td>11.0</td>\n",
       "      <td>0.81</td>\n",
       "      <td>0.0</td>\n",
       "      <td>0.17</td>\n",
       "      <td>$25,000-49,999</td>\n",
       "      <td>True</td>\n",
       "      <td>3083.333333</td>\n",
       "      <td>E33A3400205839220442E84</td>\n",
       "      <td>NaN</td>\n",
       "      <td>NaN</td>\n",
       "      <td>NaN</td>\n",
       "      <td>NaN</td>\n",
       "      <td>NaN</td>\n",
       "      <td>NaN</td>\n",
       "      <td>NaN</td>\n",
       "      <td>NaN</td>\n",
       "      <td>0</td>\n",
       "      <td>NaN</td>\n",
       "      <td>78</td>\n",
       "      <td>19141</td>\n",
       "      <td>9425</td>\n",
       "      <td>2007-09-12</td>\n",
       "      <td>Q3 2007</td>\n",
       "      <td>1F3E3376408759268057EDA</td>\n",
       "      <td>330.43</td>\n",
       "      <td>11396.14</td>\n",
       "      <td>9425.00</td>\n",
       "      <td>1971.14</td>\n",
       "      <td>-133.18</td>\n",
       "      <td>0.0</td>\n",
       "      <td>0.0</td>\n",
       "      <td>0.0</td>\n",
       "      <td>0.0</td>\n",
       "      <td>1.0</td>\n",
       "      <td>0</td>\n",
       "      <td>0</td>\n",
       "      <td>0.0</td>\n",
       "      <td>258</td>\n",
       "    </tr>\n",
       "    <tr>\n",
       "      <th>1</th>\n",
       "      <td>10273602499503308B223C1</td>\n",
       "      <td>1209647</td>\n",
       "      <td>2014-02-27 08:28:07.900</td>\n",
       "      <td>NaN</td>\n",
       "      <td>36</td>\n",
       "      <td>Current</td>\n",
       "      <td>NaT</td>\n",
       "      <td>0.12016</td>\n",
       "      <td>0.0920</td>\n",
       "      <td>0.0820</td>\n",
       "      <td>0.07960</td>\n",
       "      <td>0.0249</td>\n",
       "      <td>0.05470</td>\n",
       "      <td>6.0</td>\n",
       "      <td>A</td>\n",
       "      <td>7.0</td>\n",
       "      <td>2</td>\n",
       "      <td>CO</td>\n",
       "      <td>Professional</td>\n",
       "      <td>Employed</td>\n",
       "      <td>44.0</td>\n",
       "      <td>False</td>\n",
       "      <td>False</td>\n",
       "      <td>NaN</td>\n",
       "      <td>2014-02-27 08:28:14.000</td>\n",
       "      <td>680.0</td>\n",
       "      <td>699.0</td>\n",
       "      <td>1996-03-18 00:00:00</td>\n",
       "      <td>14.0</td>\n",
       "      <td>14.0</td>\n",
       "      <td>29.0</td>\n",
       "      <td>13</td>\n",
       "      <td>389.0</td>\n",
       "      <td>3.0</td>\n",
       "      <td>5.0</td>\n",
       "      <td>0.0</td>\n",
       "      <td>0.0</td>\n",
       "      <td>0.0</td>\n",
       "      <td>1.0</td>\n",
       "      <td>0.0</td>\n",
       "      <td>3989.0</td>\n",
       "      <td>0.21</td>\n",
       "      <td>10266.0</td>\n",
       "      <td>29.0</td>\n",
       "      <td>1.00</td>\n",
       "      <td>2.0</td>\n",
       "      <td>0.18</td>\n",
       "      <td>$50,000-74,999</td>\n",
       "      <td>True</td>\n",
       "      <td>6125.000000</td>\n",
       "      <td>9E3B37071505919926B1D82</td>\n",
       "      <td>NaN</td>\n",
       "      <td>NaN</td>\n",
       "      <td>NaN</td>\n",
       "      <td>NaN</td>\n",
       "      <td>NaN</td>\n",
       "      <td>NaN</td>\n",
       "      <td>NaN</td>\n",
       "      <td>NaN</td>\n",
       "      <td>0</td>\n",
       "      <td>NaN</td>\n",
       "      <td>0</td>\n",
       "      <td>134815</td>\n",
       "      <td>10000</td>\n",
       "      <td>2014-03-03</td>\n",
       "      <td>Q1 2014</td>\n",
       "      <td>1D13370546739025387B2F4</td>\n",
       "      <td>318.93</td>\n",
       "      <td>0.00</td>\n",
       "      <td>0.00</td>\n",
       "      <td>0.00</td>\n",
       "      <td>0.00</td>\n",
       "      <td>0.0</td>\n",
       "      <td>0.0</td>\n",
       "      <td>0.0</td>\n",
       "      <td>0.0</td>\n",
       "      <td>1.0</td>\n",
       "      <td>0</td>\n",
       "      <td>0</td>\n",
       "      <td>0.0</td>\n",
       "      <td>1</td>\n",
       "    </tr>\n",
       "    <tr>\n",
       "      <th>2</th>\n",
       "      <td>0EE9337825851032864889A</td>\n",
       "      <td>81716</td>\n",
       "      <td>2007-01-05 15:00:47.090</td>\n",
       "      <td>HR</td>\n",
       "      <td>36</td>\n",
       "      <td>Completed</td>\n",
       "      <td>2009-12-17</td>\n",
       "      <td>0.28269</td>\n",
       "      <td>0.2750</td>\n",
       "      <td>0.2400</td>\n",
       "      <td>NaN</td>\n",
       "      <td>NaN</td>\n",
       "      <td>NaN</td>\n",
       "      <td>NaN</td>\n",
       "      <td>NaN</td>\n",
       "      <td>NaN</td>\n",
       "      <td>0</td>\n",
       "      <td>GA</td>\n",
       "      <td>Other</td>\n",
       "      <td>Not available</td>\n",
       "      <td>NaN</td>\n",
       "      <td>False</td>\n",
       "      <td>True</td>\n",
       "      <td>783C3371218786870A73D20</td>\n",
       "      <td>2007-01-02 14:09:10.060</td>\n",
       "      <td>480.0</td>\n",
       "      <td>499.0</td>\n",
       "      <td>2002-07-27 00:00:00</td>\n",
       "      <td>NaN</td>\n",
       "      <td>NaN</td>\n",
       "      <td>3.0</td>\n",
       "      <td>0</td>\n",
       "      <td>0.0</td>\n",
       "      <td>0.0</td>\n",
       "      <td>1.0</td>\n",
       "      <td>1.0</td>\n",
       "      <td>NaN</td>\n",
       "      <td>0.0</td>\n",
       "      <td>0.0</td>\n",
       "      <td>NaN</td>\n",
       "      <td>NaN</td>\n",
       "      <td>NaN</td>\n",
       "      <td>NaN</td>\n",
       "      <td>NaN</td>\n",
       "      <td>NaN</td>\n",
       "      <td>NaN</td>\n",
       "      <td>0.06</td>\n",
       "      <td>Not displayed</td>\n",
       "      <td>True</td>\n",
       "      <td>2083.333333</td>\n",
       "      <td>6954337960046817851BCB2</td>\n",
       "      <td>NaN</td>\n",
       "      <td>NaN</td>\n",
       "      <td>NaN</td>\n",
       "      <td>NaN</td>\n",
       "      <td>NaN</td>\n",
       "      <td>NaN</td>\n",
       "      <td>NaN</td>\n",
       "      <td>NaN</td>\n",
       "      <td>0</td>\n",
       "      <td>NaN</td>\n",
       "      <td>86</td>\n",
       "      <td>6466</td>\n",
       "      <td>3001</td>\n",
       "      <td>2007-01-17</td>\n",
       "      <td>Q1 2007</td>\n",
       "      <td>5F7033715035555618FA612</td>\n",
       "      <td>123.32</td>\n",
       "      <td>4186.63</td>\n",
       "      <td>3001.00</td>\n",
       "      <td>1185.63</td>\n",
       "      <td>-24.20</td>\n",
       "      <td>0.0</td>\n",
       "      <td>0.0</td>\n",
       "      <td>0.0</td>\n",
       "      <td>0.0</td>\n",
       "      <td>1.0</td>\n",
       "      <td>0</td>\n",
       "      <td>0</td>\n",
       "      <td>0.0</td>\n",
       "      <td>41</td>\n",
       "    </tr>\n",
       "    <tr>\n",
       "      <th>3</th>\n",
       "      <td>0EF5356002482715299901A</td>\n",
       "      <td>658116</td>\n",
       "      <td>2012-10-22 11:02:35.010</td>\n",
       "      <td>NaN</td>\n",
       "      <td>36</td>\n",
       "      <td>Current</td>\n",
       "      <td>NaT</td>\n",
       "      <td>0.12528</td>\n",
       "      <td>0.0974</td>\n",
       "      <td>0.0874</td>\n",
       "      <td>0.08490</td>\n",
       "      <td>0.0249</td>\n",
       "      <td>0.06000</td>\n",
       "      <td>6.0</td>\n",
       "      <td>A</td>\n",
       "      <td>9.0</td>\n",
       "      <td>16</td>\n",
       "      <td>GA</td>\n",
       "      <td>Skilled Labor</td>\n",
       "      <td>Employed</td>\n",
       "      <td>113.0</td>\n",
       "      <td>True</td>\n",
       "      <td>False</td>\n",
       "      <td>NaN</td>\n",
       "      <td>2012-10-22 11:02:32.000</td>\n",
       "      <td>800.0</td>\n",
       "      <td>819.0</td>\n",
       "      <td>1983-02-28 00:00:00</td>\n",
       "      <td>5.0</td>\n",
       "      <td>5.0</td>\n",
       "      <td>29.0</td>\n",
       "      <td>7</td>\n",
       "      <td>115.0</td>\n",
       "      <td>0.0</td>\n",
       "      <td>1.0</td>\n",
       "      <td>4.0</td>\n",
       "      <td>10056.0</td>\n",
       "      <td>14.0</td>\n",
       "      <td>0.0</td>\n",
       "      <td>0.0</td>\n",
       "      <td>1444.0</td>\n",
       "      <td>0.04</td>\n",
       "      <td>30754.0</td>\n",
       "      <td>26.0</td>\n",
       "      <td>0.76</td>\n",
       "      <td>0.0</td>\n",
       "      <td>0.15</td>\n",
       "      <td>$25,000-49,999</td>\n",
       "      <td>True</td>\n",
       "      <td>2875.000000</td>\n",
       "      <td>A0393664465886295619C51</td>\n",
       "      <td>NaN</td>\n",
       "      <td>NaN</td>\n",
       "      <td>NaN</td>\n",
       "      <td>NaN</td>\n",
       "      <td>NaN</td>\n",
       "      <td>NaN</td>\n",
       "      <td>NaN</td>\n",
       "      <td>NaN</td>\n",
       "      <td>0</td>\n",
       "      <td>NaN</td>\n",
       "      <td>16</td>\n",
       "      <td>77296</td>\n",
       "      <td>10000</td>\n",
       "      <td>2012-11-01</td>\n",
       "      <td>Q4 2012</td>\n",
       "      <td>9ADE356069835475068C6D2</td>\n",
       "      <td>321.45</td>\n",
       "      <td>5143.20</td>\n",
       "      <td>4091.09</td>\n",
       "      <td>1052.11</td>\n",
       "      <td>-108.01</td>\n",
       "      <td>0.0</td>\n",
       "      <td>0.0</td>\n",
       "      <td>0.0</td>\n",
       "      <td>0.0</td>\n",
       "      <td>1.0</td>\n",
       "      <td>0</td>\n",
       "      <td>0</td>\n",
       "      <td>0.0</td>\n",
       "      <td>158</td>\n",
       "    </tr>\n",
       "    <tr>\n",
       "      <th>4</th>\n",
       "      <td>0F023589499656230C5E3E2</td>\n",
       "      <td>909464</td>\n",
       "      <td>2013-09-14 18:38:39.097</td>\n",
       "      <td>NaN</td>\n",
       "      <td>36</td>\n",
       "      <td>Current</td>\n",
       "      <td>NaT</td>\n",
       "      <td>0.24614</td>\n",
       "      <td>0.2085</td>\n",
       "      <td>0.1985</td>\n",
       "      <td>0.18316</td>\n",
       "      <td>0.0925</td>\n",
       "      <td>0.09066</td>\n",
       "      <td>3.0</td>\n",
       "      <td>D</td>\n",
       "      <td>4.0</td>\n",
       "      <td>2</td>\n",
       "      <td>MN</td>\n",
       "      <td>Executive</td>\n",
       "      <td>Employed</td>\n",
       "      <td>44.0</td>\n",
       "      <td>True</td>\n",
       "      <td>False</td>\n",
       "      <td>NaN</td>\n",
       "      <td>2013-09-14 18:38:44.000</td>\n",
       "      <td>680.0</td>\n",
       "      <td>699.0</td>\n",
       "      <td>2004-02-20 00:00:00</td>\n",
       "      <td>19.0</td>\n",
       "      <td>19.0</td>\n",
       "      <td>49.0</td>\n",
       "      <td>6</td>\n",
       "      <td>220.0</td>\n",
       "      <td>1.0</td>\n",
       "      <td>9.0</td>\n",
       "      <td>0.0</td>\n",
       "      <td>0.0</td>\n",
       "      <td>0.0</td>\n",
       "      <td>0.0</td>\n",
       "      <td>0.0</td>\n",
       "      <td>6193.0</td>\n",
       "      <td>0.81</td>\n",
       "      <td>695.0</td>\n",
       "      <td>39.0</td>\n",
       "      <td>0.95</td>\n",
       "      <td>2.0</td>\n",
       "      <td>0.26</td>\n",
       "      <td>$100,000+</td>\n",
       "      <td>True</td>\n",
       "      <td>9583.333333</td>\n",
       "      <td>A180369302188889200689E</td>\n",
       "      <td>1.0</td>\n",
       "      <td>11.0</td>\n",
       "      <td>11.0</td>\n",
       "      <td>0.0</td>\n",
       "      <td>0.0</td>\n",
       "      <td>11000.0</td>\n",
       "      <td>9947.9</td>\n",
       "      <td>NaN</td>\n",
       "      <td>0</td>\n",
       "      <td>NaN</td>\n",
       "      <td>6</td>\n",
       "      <td>102670</td>\n",
       "      <td>15000</td>\n",
       "      <td>2013-09-20</td>\n",
       "      <td>Q3 2013</td>\n",
       "      <td>36CE356043264555721F06C</td>\n",
       "      <td>563.97</td>\n",
       "      <td>2819.85</td>\n",
       "      <td>1563.22</td>\n",
       "      <td>1256.63</td>\n",
       "      <td>-60.27</td>\n",
       "      <td>0.0</td>\n",
       "      <td>0.0</td>\n",
       "      <td>0.0</td>\n",
       "      <td>0.0</td>\n",
       "      <td>1.0</td>\n",
       "      <td>0</td>\n",
       "      <td>0</td>\n",
       "      <td>0.0</td>\n",
       "      <td>20</td>\n",
       "    </tr>\n",
       "    <tr>\n",
       "      <th>5</th>\n",
       "      <td>0F05359734824199381F61D</td>\n",
       "      <td>1074836</td>\n",
       "      <td>2013-12-14 08:26:37.093</td>\n",
       "      <td>NaN</td>\n",
       "      <td>60</td>\n",
       "      <td>Current</td>\n",
       "      <td>NaT</td>\n",
       "      <td>0.15425</td>\n",
       "      <td>0.1314</td>\n",
       "      <td>0.1214</td>\n",
       "      <td>0.11567</td>\n",
       "      <td>0.0449</td>\n",
       "      <td>0.07077</td>\n",
       "      <td>5.0</td>\n",
       "      <td>B</td>\n",
       "      <td>10.0</td>\n",
       "      <td>1</td>\n",
       "      <td>NM</td>\n",
       "      <td>Professional</td>\n",
       "      <td>Employed</td>\n",
       "      <td>82.0</td>\n",
       "      <td>True</td>\n",
       "      <td>False</td>\n",
       "      <td>NaN</td>\n",
       "      <td>2013-12-14 08:26:40.000</td>\n",
       "      <td>740.0</td>\n",
       "      <td>759.0</td>\n",
       "      <td>1973-03-01 00:00:00</td>\n",
       "      <td>21.0</td>\n",
       "      <td>17.0</td>\n",
       "      <td>49.0</td>\n",
       "      <td>13</td>\n",
       "      <td>1410.0</td>\n",
       "      <td>0.0</td>\n",
       "      <td>2.0</td>\n",
       "      <td>0.0</td>\n",
       "      <td>0.0</td>\n",
       "      <td>0.0</td>\n",
       "      <td>0.0</td>\n",
       "      <td>0.0</td>\n",
       "      <td>62999.0</td>\n",
       "      <td>0.39</td>\n",
       "      <td>86509.0</td>\n",
       "      <td>47.0</td>\n",
       "      <td>1.00</td>\n",
       "      <td>0.0</td>\n",
       "      <td>0.36</td>\n",
       "      <td>$100,000+</td>\n",
       "      <td>True</td>\n",
       "      <td>8333.333333</td>\n",
       "      <td>C3D63702273952547E79520</td>\n",
       "      <td>NaN</td>\n",
       "      <td>NaN</td>\n",
       "      <td>NaN</td>\n",
       "      <td>NaN</td>\n",
       "      <td>NaN</td>\n",
       "      <td>NaN</td>\n",
       "      <td>NaN</td>\n",
       "      <td>NaN</td>\n",
       "      <td>0</td>\n",
       "      <td>NaN</td>\n",
       "      <td>3</td>\n",
       "      <td>123257</td>\n",
       "      <td>15000</td>\n",
       "      <td>2013-12-24</td>\n",
       "      <td>Q4 2013</td>\n",
       "      <td>874A3701157341738DE458F</td>\n",
       "      <td>342.37</td>\n",
       "      <td>679.34</td>\n",
       "      <td>351.89</td>\n",
       "      <td>327.45</td>\n",
       "      <td>-25.33</td>\n",
       "      <td>0.0</td>\n",
       "      <td>0.0</td>\n",
       "      <td>0.0</td>\n",
       "      <td>0.0</td>\n",
       "      <td>1.0</td>\n",
       "      <td>0</td>\n",
       "      <td>0</td>\n",
       "      <td>0.0</td>\n",
       "      <td>1</td>\n",
       "    </tr>\n",
       "    <tr>\n",
       "      <th>6</th>\n",
       "      <td>0F0A3576754255009D63151</td>\n",
       "      <td>750899</td>\n",
       "      <td>2013-04-12 09:52:56.147</td>\n",
       "      <td>NaN</td>\n",
       "      <td>36</td>\n",
       "      <td>Current</td>\n",
       "      <td>NaT</td>\n",
       "      <td>0.31032</td>\n",
       "      <td>0.2712</td>\n",
       "      <td>0.2612</td>\n",
       "      <td>0.23820</td>\n",
       "      <td>0.1275</td>\n",
       "      <td>0.11070</td>\n",
       "      <td>2.0</td>\n",
       "      <td>E</td>\n",
       "      <td>2.0</td>\n",
       "      <td>1</td>\n",
       "      <td>KS</td>\n",
       "      <td>Sales - Retail</td>\n",
       "      <td>Employed</td>\n",
       "      <td>172.0</td>\n",
       "      <td>False</td>\n",
       "      <td>False</td>\n",
       "      <td>NaN</td>\n",
       "      <td>2013-04-12 09:52:53.000</td>\n",
       "      <td>680.0</td>\n",
       "      <td>699.0</td>\n",
       "      <td>2000-09-29 00:00:00</td>\n",
       "      <td>10.0</td>\n",
       "      <td>7.0</td>\n",
       "      <td>20.0</td>\n",
       "      <td>6</td>\n",
       "      <td>214.0</td>\n",
       "      <td>0.0</td>\n",
       "      <td>0.0</td>\n",
       "      <td>0.0</td>\n",
       "      <td>0.0</td>\n",
       "      <td>0.0</td>\n",
       "      <td>0.0</td>\n",
       "      <td>0.0</td>\n",
       "      <td>5812.0</td>\n",
       "      <td>0.72</td>\n",
       "      <td>1929.0</td>\n",
       "      <td>16.0</td>\n",
       "      <td>0.68</td>\n",
       "      <td>0.0</td>\n",
       "      <td>0.27</td>\n",
       "      <td>$25,000-49,999</td>\n",
       "      <td>True</td>\n",
       "      <td>2083.333333</td>\n",
       "      <td>CE963680102927767790520</td>\n",
       "      <td>NaN</td>\n",
       "      <td>NaN</td>\n",
       "      <td>NaN</td>\n",
       "      <td>NaN</td>\n",
       "      <td>NaN</td>\n",
       "      <td>NaN</td>\n",
       "      <td>NaN</td>\n",
       "      <td>NaN</td>\n",
       "      <td>0</td>\n",
       "      <td>NaN</td>\n",
       "      <td>11</td>\n",
       "      <td>88353</td>\n",
       "      <td>3000</td>\n",
       "      <td>2013-04-18</td>\n",
       "      <td>Q2 2013</td>\n",
       "      <td>AA4535764146102879D5959</td>\n",
       "      <td>122.67</td>\n",
       "      <td>1226.70</td>\n",
       "      <td>604.25</td>\n",
       "      <td>622.45</td>\n",
       "      <td>-22.95</td>\n",
       "      <td>0.0</td>\n",
       "      <td>0.0</td>\n",
       "      <td>0.0</td>\n",
       "      <td>0.0</td>\n",
       "      <td>1.0</td>\n",
       "      <td>0</td>\n",
       "      <td>0</td>\n",
       "      <td>0.0</td>\n",
       "      <td>1</td>\n",
       "    </tr>\n",
       "    <tr>\n",
       "      <th>7</th>\n",
       "      <td>0F1035772717087366F9EA7</td>\n",
       "      <td>768193</td>\n",
       "      <td>2013-05-05 06:49:27.493</td>\n",
       "      <td>NaN</td>\n",
       "      <td>36</td>\n",
       "      <td>Current</td>\n",
       "      <td>NaT</td>\n",
       "      <td>0.23939</td>\n",
       "      <td>0.2019</td>\n",
       "      <td>0.1919</td>\n",
       "      <td>0.17830</td>\n",
       "      <td>0.0799</td>\n",
       "      <td>0.09840</td>\n",
       "      <td>4.0</td>\n",
       "      <td>C</td>\n",
       "      <td>4.0</td>\n",
       "      <td>2</td>\n",
       "      <td>CA</td>\n",
       "      <td>Laborer</td>\n",
       "      <td>Employed</td>\n",
       "      <td>103.0</td>\n",
       "      <td>False</td>\n",
       "      <td>False</td>\n",
       "      <td>NaN</td>\n",
       "      <td>2013-05-05 06:49:25.000</td>\n",
       "      <td>700.0</td>\n",
       "      <td>719.0</td>\n",
       "      <td>1999-02-25 00:00:00</td>\n",
       "      <td>6.0</td>\n",
       "      <td>6.0</td>\n",
       "      <td>10.0</td>\n",
       "      <td>5</td>\n",
       "      <td>101.0</td>\n",
       "      <td>3.0</td>\n",
       "      <td>16.0</td>\n",
       "      <td>0.0</td>\n",
       "      <td>0.0</td>\n",
       "      <td>0.0</td>\n",
       "      <td>1.0</td>\n",
       "      <td>0.0</td>\n",
       "      <td>1260.0</td>\n",
       "      <td>0.13</td>\n",
       "      <td>2181.0</td>\n",
       "      <td>10.0</td>\n",
       "      <td>0.80</td>\n",
       "      <td>0.0</td>\n",
       "      <td>0.24</td>\n",
       "      <td>$25,000-49,999</td>\n",
       "      <td>True</td>\n",
       "      <td>3355.750000</td>\n",
       "      <td>0C87368108902149313D53B</td>\n",
       "      <td>NaN</td>\n",
       "      <td>NaN</td>\n",
       "      <td>NaN</td>\n",
       "      <td>NaN</td>\n",
       "      <td>NaN</td>\n",
       "      <td>NaN</td>\n",
       "      <td>NaN</td>\n",
       "      <td>NaN</td>\n",
       "      <td>0</td>\n",
       "      <td>NaN</td>\n",
       "      <td>10</td>\n",
       "      <td>90051</td>\n",
       "      <td>10000</td>\n",
       "      <td>2013-05-13</td>\n",
       "      <td>Q2 2013</td>\n",
       "      <td>737F347089545035681C074</td>\n",
       "      <td>372.60</td>\n",
       "      <td>3353.40</td>\n",
       "      <td>1955.89</td>\n",
       "      <td>1397.51</td>\n",
       "      <td>-69.21</td>\n",
       "      <td>0.0</td>\n",
       "      <td>0.0</td>\n",
       "      <td>0.0</td>\n",
       "      <td>0.0</td>\n",
       "      <td>1.0</td>\n",
       "      <td>0</td>\n",
       "      <td>0</td>\n",
       "      <td>0.0</td>\n",
       "      <td>1</td>\n",
       "    </tr>\n",
       "    <tr>\n",
       "      <th>8</th>\n",
       "      <td>0F043596202561788EA13D5</td>\n",
       "      <td>1023355</td>\n",
       "      <td>2013-12-02 10:43:39.117</td>\n",
       "      <td>NaN</td>\n",
       "      <td>36</td>\n",
       "      <td>Current</td>\n",
       "      <td>NaT</td>\n",
       "      <td>0.07620</td>\n",
       "      <td>0.0629</td>\n",
       "      <td>0.0529</td>\n",
       "      <td>0.05221</td>\n",
       "      <td>0.0099</td>\n",
       "      <td>0.04231</td>\n",
       "      <td>7.0</td>\n",
       "      <td>AA</td>\n",
       "      <td>9.0</td>\n",
       "      <td>7</td>\n",
       "      <td>IL</td>\n",
       "      <td>Food Service</td>\n",
       "      <td>Employed</td>\n",
       "      <td>269.0</td>\n",
       "      <td>True</td>\n",
       "      <td>False</td>\n",
       "      <td>NaN</td>\n",
       "      <td>2013-12-02 10:43:39.000</td>\n",
       "      <td>820.0</td>\n",
       "      <td>839.0</td>\n",
       "      <td>1993-04-01 00:00:00</td>\n",
       "      <td>17.0</td>\n",
       "      <td>16.0</td>\n",
       "      <td>32.0</td>\n",
       "      <td>12</td>\n",
       "      <td>219.0</td>\n",
       "      <td>1.0</td>\n",
       "      <td>6.0</td>\n",
       "      <td>0.0</td>\n",
       "      <td>0.0</td>\n",
       "      <td>0.0</td>\n",
       "      <td>0.0</td>\n",
       "      <td>0.0</td>\n",
       "      <td>9906.0</td>\n",
       "      <td>0.11</td>\n",
       "      <td>77696.0</td>\n",
       "      <td>29.0</td>\n",
       "      <td>1.00</td>\n",
       "      <td>1.0</td>\n",
       "      <td>0.25</td>\n",
       "      <td>$25,000-49,999</td>\n",
       "      <td>True</td>\n",
       "      <td>3333.333333</td>\n",
       "      <td>02163700809231365A56A1C</td>\n",
       "      <td>NaN</td>\n",
       "      <td>NaN</td>\n",
       "      <td>NaN</td>\n",
       "      <td>NaN</td>\n",
       "      <td>NaN</td>\n",
       "      <td>NaN</td>\n",
       "      <td>NaN</td>\n",
       "      <td>NaN</td>\n",
       "      <td>0</td>\n",
       "      <td>NaN</td>\n",
       "      <td>3</td>\n",
       "      <td>121268</td>\n",
       "      <td>10000</td>\n",
       "      <td>2013-12-12</td>\n",
       "      <td>Q4 2013</td>\n",
       "      <td>49A53699682291323D04D66</td>\n",
       "      <td>305.54</td>\n",
       "      <td>611.08</td>\n",
       "      <td>505.58</td>\n",
       "      <td>105.50</td>\n",
       "      <td>-16.77</td>\n",
       "      <td>0.0</td>\n",
       "      <td>0.0</td>\n",
       "      <td>0.0</td>\n",
       "      <td>0.0</td>\n",
       "      <td>1.0</td>\n",
       "      <td>0</td>\n",
       "      <td>0</td>\n",
       "      <td>0.0</td>\n",
       "      <td>1</td>\n",
       "    </tr>\n",
       "    <tr>\n",
       "      <th>9</th>\n",
       "      <td>0F043596202561788EA13D5</td>\n",
       "      <td>1023355</td>\n",
       "      <td>2013-12-02 10:43:39.117</td>\n",
       "      <td>NaN</td>\n",
       "      <td>36</td>\n",
       "      <td>Current</td>\n",
       "      <td>NaT</td>\n",
       "      <td>0.07620</td>\n",
       "      <td>0.0629</td>\n",
       "      <td>0.0529</td>\n",
       "      <td>0.05221</td>\n",
       "      <td>0.0099</td>\n",
       "      <td>0.04231</td>\n",
       "      <td>7.0</td>\n",
       "      <td>AA</td>\n",
       "      <td>11.0</td>\n",
       "      <td>7</td>\n",
       "      <td>IL</td>\n",
       "      <td>Food Service</td>\n",
       "      <td>Employed</td>\n",
       "      <td>269.0</td>\n",
       "      <td>True</td>\n",
       "      <td>False</td>\n",
       "      <td>NaN</td>\n",
       "      <td>2013-12-02 10:43:39.000</td>\n",
       "      <td>820.0</td>\n",
       "      <td>839.0</td>\n",
       "      <td>1993-04-01 00:00:00</td>\n",
       "      <td>17.0</td>\n",
       "      <td>16.0</td>\n",
       "      <td>32.0</td>\n",
       "      <td>12</td>\n",
       "      <td>219.0</td>\n",
       "      <td>1.0</td>\n",
       "      <td>6.0</td>\n",
       "      <td>0.0</td>\n",
       "      <td>0.0</td>\n",
       "      <td>0.0</td>\n",
       "      <td>0.0</td>\n",
       "      <td>0.0</td>\n",
       "      <td>9906.0</td>\n",
       "      <td>0.11</td>\n",
       "      <td>77696.0</td>\n",
       "      <td>29.0</td>\n",
       "      <td>1.00</td>\n",
       "      <td>1.0</td>\n",
       "      <td>0.25</td>\n",
       "      <td>$25,000-49,999</td>\n",
       "      <td>True</td>\n",
       "      <td>3333.333333</td>\n",
       "      <td>02163700809231365A56A1C</td>\n",
       "      <td>NaN</td>\n",
       "      <td>NaN</td>\n",
       "      <td>NaN</td>\n",
       "      <td>NaN</td>\n",
       "      <td>NaN</td>\n",
       "      <td>NaN</td>\n",
       "      <td>NaN</td>\n",
       "      <td>NaN</td>\n",
       "      <td>0</td>\n",
       "      <td>NaN</td>\n",
       "      <td>3</td>\n",
       "      <td>121268</td>\n",
       "      <td>10000</td>\n",
       "      <td>2013-12-12</td>\n",
       "      <td>Q4 2013</td>\n",
       "      <td>49A53699682291323D04D66</td>\n",
       "      <td>305.54</td>\n",
       "      <td>611.08</td>\n",
       "      <td>505.58</td>\n",
       "      <td>105.50</td>\n",
       "      <td>-16.77</td>\n",
       "      <td>0.0</td>\n",
       "      <td>0.0</td>\n",
       "      <td>0.0</td>\n",
       "      <td>0.0</td>\n",
       "      <td>1.0</td>\n",
       "      <td>0</td>\n",
       "      <td>0</td>\n",
       "      <td>0.0</td>\n",
       "      <td>1</td>\n",
       "    </tr>\n",
       "  </tbody>\n",
       "</table>\n",
       "</div>"
      ],
      "text/plain": [
       "                ListingKey  ListingNumber     ListingCreationDate CreditGrade  \\\n",
       "0  1021339766868145413AB3B         193129 2007-08-26 19:09:29.263           C   \n",
       "1  10273602499503308B223C1        1209647 2014-02-27 08:28:07.900         NaN   \n",
       "2  0EE9337825851032864889A          81716 2007-01-05 15:00:47.090          HR   \n",
       "3  0EF5356002482715299901A         658116 2012-10-22 11:02:35.010         NaN   \n",
       "4  0F023589499656230C5E3E2         909464 2013-09-14 18:38:39.097         NaN   \n",
       "5  0F05359734824199381F61D        1074836 2013-12-14 08:26:37.093         NaN   \n",
       "6  0F0A3576754255009D63151         750899 2013-04-12 09:52:56.147         NaN   \n",
       "7  0F1035772717087366F9EA7         768193 2013-05-05 06:49:27.493         NaN   \n",
       "8  0F043596202561788EA13D5        1023355 2013-12-02 10:43:39.117         NaN   \n",
       "9  0F043596202561788EA13D5        1023355 2013-12-02 10:43:39.117         NaN   \n",
       "\n",
       "   Term LoanStatus ClosedDate  BorrowerAPR  BorrowerRate  LenderYield  \\\n",
       "0    36  Completed 2009-08-14      0.16516        0.1580       0.1380   \n",
       "1    36    Current        NaT      0.12016        0.0920       0.0820   \n",
       "2    36  Completed 2009-12-17      0.28269        0.2750       0.2400   \n",
       "3    36    Current        NaT      0.12528        0.0974       0.0874   \n",
       "4    36    Current        NaT      0.24614        0.2085       0.1985   \n",
       "5    60    Current        NaT      0.15425        0.1314       0.1214   \n",
       "6    36    Current        NaT      0.31032        0.2712       0.2612   \n",
       "7    36    Current        NaT      0.23939        0.2019       0.1919   \n",
       "8    36    Current        NaT      0.07620        0.0629       0.0529   \n",
       "9    36    Current        NaT      0.07620        0.0629       0.0529   \n",
       "\n",
       "   EstimatedEffectiveYield  EstimatedLoss  EstimatedReturn  \\\n",
       "0                      NaN            NaN              NaN   \n",
       "1                  0.07960         0.0249          0.05470   \n",
       "2                      NaN            NaN              NaN   \n",
       "3                  0.08490         0.0249          0.06000   \n",
       "4                  0.18316         0.0925          0.09066   \n",
       "5                  0.11567         0.0449          0.07077   \n",
       "6                  0.23820         0.1275          0.11070   \n",
       "7                  0.17830         0.0799          0.09840   \n",
       "8                  0.05221         0.0099          0.04231   \n",
       "9                  0.05221         0.0099          0.04231   \n",
       "\n",
       "   ProsperRating (numeric) ProsperRating (Alpha)  ProsperScore  \\\n",
       "0                      NaN                   NaN           NaN   \n",
       "1                      6.0                     A           7.0   \n",
       "2                      NaN                   NaN           NaN   \n",
       "3                      6.0                     A           9.0   \n",
       "4                      3.0                     D           4.0   \n",
       "5                      5.0                     B          10.0   \n",
       "6                      2.0                     E           2.0   \n",
       "7                      4.0                     C           4.0   \n",
       "8                      7.0                    AA           9.0   \n",
       "9                      7.0                    AA          11.0   \n",
       "\n",
       "   ListingCategory (numeric) BorrowerState      Occupation EmploymentStatus  \\\n",
       "0                          0            CO           Other    Self-employed   \n",
       "1                          2            CO    Professional         Employed   \n",
       "2                          0            GA           Other    Not available   \n",
       "3                         16            GA   Skilled Labor         Employed   \n",
       "4                          2            MN       Executive         Employed   \n",
       "5                          1            NM    Professional         Employed   \n",
       "6                          1            KS  Sales - Retail         Employed   \n",
       "7                          2            CA         Laborer         Employed   \n",
       "8                          7            IL    Food Service         Employed   \n",
       "9                          7            IL    Food Service         Employed   \n",
       "\n",
       "   EmploymentStatusDuration  IsBorrowerHomeowner  CurrentlyInGroup  \\\n",
       "0                       2.0                 True              True   \n",
       "1                      44.0                False             False   \n",
       "2                       NaN                False              True   \n",
       "3                     113.0                 True             False   \n",
       "4                      44.0                 True             False   \n",
       "5                      82.0                 True             False   \n",
       "6                     172.0                False             False   \n",
       "7                     103.0                False             False   \n",
       "8                     269.0                 True             False   \n",
       "9                     269.0                 True             False   \n",
       "\n",
       "                  GroupKey        DateCreditPulled  CreditScoreRangeLower  \\\n",
       "0                      NaN 2007-08-26 18:41:46.780                  640.0   \n",
       "1                      NaN 2014-02-27 08:28:14.000                  680.0   \n",
       "2  783C3371218786870A73D20 2007-01-02 14:09:10.060                  480.0   \n",
       "3                      NaN 2012-10-22 11:02:32.000                  800.0   \n",
       "4                      NaN 2013-09-14 18:38:44.000                  680.0   \n",
       "5                      NaN 2013-12-14 08:26:40.000                  740.0   \n",
       "6                      NaN 2013-04-12 09:52:53.000                  680.0   \n",
       "7                      NaN 2013-05-05 06:49:25.000                  700.0   \n",
       "8                      NaN 2013-12-02 10:43:39.000                  820.0   \n",
       "9                      NaN 2013-12-02 10:43:39.000                  820.0   \n",
       "\n",
       "   CreditScoreRangeUpper FirstRecordedCreditLine  CurrentCreditLines  \\\n",
       "0                  659.0     2001-10-11 00:00:00                 5.0   \n",
       "1                  699.0     1996-03-18 00:00:00                14.0   \n",
       "2                  499.0     2002-07-27 00:00:00                 NaN   \n",
       "3                  819.0     1983-02-28 00:00:00                 5.0   \n",
       "4                  699.0     2004-02-20 00:00:00                19.0   \n",
       "5                  759.0     1973-03-01 00:00:00                21.0   \n",
       "6                  699.0     2000-09-29 00:00:00                10.0   \n",
       "7                  719.0     1999-02-25 00:00:00                 6.0   \n",
       "8                  839.0     1993-04-01 00:00:00                17.0   \n",
       "9                  839.0     1993-04-01 00:00:00                17.0   \n",
       "\n",
       "   OpenCreditLines  TotalCreditLinespast7years  OpenRevolvingAccounts  \\\n",
       "0              4.0                        12.0                      1   \n",
       "1             14.0                        29.0                     13   \n",
       "2              NaN                         3.0                      0   \n",
       "3              5.0                        29.0                      7   \n",
       "4             19.0                        49.0                      6   \n",
       "5             17.0                        49.0                     13   \n",
       "6              7.0                        20.0                      6   \n",
       "7              6.0                        10.0                      5   \n",
       "8             16.0                        32.0                     12   \n",
       "9             16.0                        32.0                     12   \n",
       "\n",
       "   OpenRevolvingMonthlyPayment  InquiriesLast6Months  TotalInquiries  \\\n",
       "0                         24.0                   3.0             3.0   \n",
       "1                        389.0                   3.0             5.0   \n",
       "2                          0.0                   0.0             1.0   \n",
       "3                        115.0                   0.0             1.0   \n",
       "4                        220.0                   1.0             9.0   \n",
       "5                       1410.0                   0.0             2.0   \n",
       "6                        214.0                   0.0             0.0   \n",
       "7                        101.0                   3.0            16.0   \n",
       "8                        219.0                   1.0             6.0   \n",
       "9                        219.0                   1.0             6.0   \n",
       "\n",
       "   CurrentDelinquencies  AmountDelinquent  DelinquenciesLast7Years  \\\n",
       "0                   2.0             472.0                      4.0   \n",
       "1                   0.0               0.0                      0.0   \n",
       "2                   1.0               NaN                      0.0   \n",
       "3                   4.0           10056.0                     14.0   \n",
       "4                   0.0               0.0                      0.0   \n",
       "5                   0.0               0.0                      0.0   \n",
       "6                   0.0               0.0                      0.0   \n",
       "7                   0.0               0.0                      0.0   \n",
       "8                   0.0               0.0                      0.0   \n",
       "9                   0.0               0.0                      0.0   \n",
       "\n",
       "   PublicRecordsLast10Years  PublicRecordsLast12Months  \\\n",
       "0                       0.0                        0.0   \n",
       "1                       1.0                        0.0   \n",
       "2                       0.0                        NaN   \n",
       "3                       0.0                        0.0   \n",
       "4                       0.0                        0.0   \n",
       "5                       0.0                        0.0   \n",
       "6                       0.0                        0.0   \n",
       "7                       1.0                        0.0   \n",
       "8                       0.0                        0.0   \n",
       "9                       0.0                        0.0   \n",
       "\n",
       "   RevolvingCreditBalance  BankcardUtilization  AvailableBankcardCredit  \\\n",
       "0                     0.0                 0.00                   1500.0   \n",
       "1                  3989.0                 0.21                  10266.0   \n",
       "2                     NaN                  NaN                      NaN   \n",
       "3                  1444.0                 0.04                  30754.0   \n",
       "4                  6193.0                 0.81                    695.0   \n",
       "5                 62999.0                 0.39                  86509.0   \n",
       "6                  5812.0                 0.72                   1929.0   \n",
       "7                  1260.0                 0.13                   2181.0   \n",
       "8                  9906.0                 0.11                  77696.0   \n",
       "9                  9906.0                 0.11                  77696.0   \n",
       "\n",
       "   TotalTrades  TradesNeverDelinquent (percentage)  TradesOpenedLast6Months  \\\n",
       "0         11.0                                0.81                      0.0   \n",
       "1         29.0                                1.00                      2.0   \n",
       "2          NaN                                 NaN                      NaN   \n",
       "3         26.0                                0.76                      0.0   \n",
       "4         39.0                                0.95                      2.0   \n",
       "5         47.0                                1.00                      0.0   \n",
       "6         16.0                                0.68                      0.0   \n",
       "7         10.0                                0.80                      0.0   \n",
       "8         29.0                                1.00                      1.0   \n",
       "9         29.0                                1.00                      1.0   \n",
       "\n",
       "   DebtToIncomeRatio     IncomeRange  IncomeVerifiable  StatedMonthlyIncome  \\\n",
       "0               0.17  $25,000-49,999              True          3083.333333   \n",
       "1               0.18  $50,000-74,999              True          6125.000000   \n",
       "2               0.06   Not displayed              True          2083.333333   \n",
       "3               0.15  $25,000-49,999              True          2875.000000   \n",
       "4               0.26       $100,000+              True          9583.333333   \n",
       "5               0.36       $100,000+              True          8333.333333   \n",
       "6               0.27  $25,000-49,999              True          2083.333333   \n",
       "7               0.24  $25,000-49,999              True          3355.750000   \n",
       "8               0.25  $25,000-49,999              True          3333.333333   \n",
       "9               0.25  $25,000-49,999              True          3333.333333   \n",
       "\n",
       "                   LoanKey  TotalProsperLoans  TotalProsperPaymentsBilled  \\\n",
       "0  E33A3400205839220442E84                NaN                         NaN   \n",
       "1  9E3B37071505919926B1D82                NaN                         NaN   \n",
       "2  6954337960046817851BCB2                NaN                         NaN   \n",
       "3  A0393664465886295619C51                NaN                         NaN   \n",
       "4  A180369302188889200689E                1.0                        11.0   \n",
       "5  C3D63702273952547E79520                NaN                         NaN   \n",
       "6  CE963680102927767790520                NaN                         NaN   \n",
       "7  0C87368108902149313D53B                NaN                         NaN   \n",
       "8  02163700809231365A56A1C                NaN                         NaN   \n",
       "9  02163700809231365A56A1C                NaN                         NaN   \n",
       "\n",
       "   OnTimeProsperPayments  ProsperPaymentsLessThanOneMonthLate  \\\n",
       "0                    NaN                                  NaN   \n",
       "1                    NaN                                  NaN   \n",
       "2                    NaN                                  NaN   \n",
       "3                    NaN                                  NaN   \n",
       "4                   11.0                                  0.0   \n",
       "5                    NaN                                  NaN   \n",
       "6                    NaN                                  NaN   \n",
       "7                    NaN                                  NaN   \n",
       "8                    NaN                                  NaN   \n",
       "9                    NaN                                  NaN   \n",
       "\n",
       "   ProsperPaymentsOneMonthPlusLate  ProsperPrincipalBorrowed  \\\n",
       "0                              NaN                       NaN   \n",
       "1                              NaN                       NaN   \n",
       "2                              NaN                       NaN   \n",
       "3                              NaN                       NaN   \n",
       "4                              0.0                   11000.0   \n",
       "5                              NaN                       NaN   \n",
       "6                              NaN                       NaN   \n",
       "7                              NaN                       NaN   \n",
       "8                              NaN                       NaN   \n",
       "9                              NaN                       NaN   \n",
       "\n",
       "   ProsperPrincipalOutstanding  ScorexChangeAtTimeOfListing  \\\n",
       "0                          NaN                          NaN   \n",
       "1                          NaN                          NaN   \n",
       "2                          NaN                          NaN   \n",
       "3                          NaN                          NaN   \n",
       "4                       9947.9                          NaN   \n",
       "5                          NaN                          NaN   \n",
       "6                          NaN                          NaN   \n",
       "7                          NaN                          NaN   \n",
       "8                          NaN                          NaN   \n",
       "9                          NaN                          NaN   \n",
       "\n",
       "   LoanCurrentDaysDelinquent  LoanFirstDefaultedCycleNumber  \\\n",
       "0                          0                            NaN   \n",
       "1                          0                            NaN   \n",
       "2                          0                            NaN   \n",
       "3                          0                            NaN   \n",
       "4                          0                            NaN   \n",
       "5                          0                            NaN   \n",
       "6                          0                            NaN   \n",
       "7                          0                            NaN   \n",
       "8                          0                            NaN   \n",
       "9                          0                            NaN   \n",
       "\n",
       "   LoanMonthsSinceOrigination  LoanNumber  LoanOriginalAmount  \\\n",
       "0                          78       19141                9425   \n",
       "1                           0      134815               10000   \n",
       "2                          86        6466                3001   \n",
       "3                          16       77296               10000   \n",
       "4                           6      102670               15000   \n",
       "5                           3      123257               15000   \n",
       "6                          11       88353                3000   \n",
       "7                          10       90051               10000   \n",
       "8                           3      121268               10000   \n",
       "9                           3      121268               10000   \n",
       "\n",
       "  LoanOriginationDate LoanOriginationQuarter                MemberKey  \\\n",
       "0          2007-09-12                Q3 2007  1F3E3376408759268057EDA   \n",
       "1          2014-03-03                Q1 2014  1D13370546739025387B2F4   \n",
       "2          2007-01-17                Q1 2007  5F7033715035555618FA612   \n",
       "3          2012-11-01                Q4 2012  9ADE356069835475068C6D2   \n",
       "4          2013-09-20                Q3 2013  36CE356043264555721F06C   \n",
       "5          2013-12-24                Q4 2013  874A3701157341738DE458F   \n",
       "6          2013-04-18                Q2 2013  AA4535764146102879D5959   \n",
       "7          2013-05-13                Q2 2013  737F347089545035681C074   \n",
       "8          2013-12-12                Q4 2013  49A53699682291323D04D66   \n",
       "9          2013-12-12                Q4 2013  49A53699682291323D04D66   \n",
       "\n",
       "   MonthlyLoanPayment  LP_CustomerPayments  LP_CustomerPrincipalPayments  \\\n",
       "0              330.43             11396.14                       9425.00   \n",
       "1              318.93                 0.00                          0.00   \n",
       "2              123.32              4186.63                       3001.00   \n",
       "3              321.45              5143.20                       4091.09   \n",
       "4              563.97              2819.85                       1563.22   \n",
       "5              342.37               679.34                        351.89   \n",
       "6              122.67              1226.70                        604.25   \n",
       "7              372.60              3353.40                       1955.89   \n",
       "8              305.54               611.08                        505.58   \n",
       "9              305.54               611.08                        505.58   \n",
       "\n",
       "   LP_InterestandFees  LP_ServiceFees  LP_CollectionFees  \\\n",
       "0             1971.14         -133.18                0.0   \n",
       "1                0.00            0.00                0.0   \n",
       "2             1185.63          -24.20                0.0   \n",
       "3             1052.11         -108.01                0.0   \n",
       "4             1256.63          -60.27                0.0   \n",
       "5              327.45          -25.33                0.0   \n",
       "6              622.45          -22.95                0.0   \n",
       "7             1397.51          -69.21                0.0   \n",
       "8              105.50          -16.77                0.0   \n",
       "9              105.50          -16.77                0.0   \n",
       "\n",
       "   LP_GrossPrincipalLoss  LP_NetPrincipalLoss  \\\n",
       "0                    0.0                  0.0   \n",
       "1                    0.0                  0.0   \n",
       "2                    0.0                  0.0   \n",
       "3                    0.0                  0.0   \n",
       "4                    0.0                  0.0   \n",
       "5                    0.0                  0.0   \n",
       "6                    0.0                  0.0   \n",
       "7                    0.0                  0.0   \n",
       "8                    0.0                  0.0   \n",
       "9                    0.0                  0.0   \n",
       "\n",
       "   LP_NonPrincipalRecoverypayments  PercentFunded  Recommendations  \\\n",
       "0                              0.0            1.0                0   \n",
       "1                              0.0            1.0                0   \n",
       "2                              0.0            1.0                0   \n",
       "3                              0.0            1.0                0   \n",
       "4                              0.0            1.0                0   \n",
       "5                              0.0            1.0                0   \n",
       "6                              0.0            1.0                0   \n",
       "7                              0.0            1.0                0   \n",
       "8                              0.0            1.0                0   \n",
       "9                              0.0            1.0                0   \n",
       "\n",
       "   InvestmentFromFriendsCount  InvestmentFromFriendsAmount  Investors  \n",
       "0                           0                          0.0        258  \n",
       "1                           0                          0.0          1  \n",
       "2                           0                          0.0         41  \n",
       "3                           0                          0.0        158  \n",
       "4                           0                          0.0         20  \n",
       "5                           0                          0.0          1  \n",
       "6                           0                          0.0          1  \n",
       "7                           0                          0.0          1  \n",
       "8                           0                          0.0          1  \n",
       "9                           0                          0.0          1  "
      ]
     },
     "execution_count": 5,
     "metadata": {},
     "output_type": "execute_result"
    }
   ],
   "source": [
    "loan_df.head(10)"
   ]
  },
  {
   "cell_type": "code",
   "execution_count": 74,
   "metadata": {
    "scrolled": true
   },
   "outputs": [
    {
     "data": {
      "text/plain": [
       "ListingKey                                 0\n",
       "ListingNumber                              0\n",
       "ListingCreationDate                        0\n",
       "CreditGrade                            84113\n",
       "Term                                       0\n",
       "LoanStatus                                 0\n",
       "ClosedDate                             57990\n",
       "BorrowerAPR                               25\n",
       "BorrowerRate                               0\n",
       "LenderYield                                0\n",
       "EstimatedEffectiveYield                29084\n",
       "EstimatedLoss                          29084\n",
       "EstimatedReturn                        29084\n",
       "ProsperRating (numeric)                29084\n",
       "ProsperRating (Alpha)                  29084\n",
       "ListingCategory (numeric)                  0\n",
       "BorrowerState                           5515\n",
       "Occupation                              3529\n",
       "EmploymentStatus                        2255\n",
       "EmploymentStatusDuration                7625\n",
       "IsBorrowerHomeowner                        0\n",
       "CurrentlyInGroup                           0\n",
       "GroupKey                               99727\n",
       "DateCreditPulled                           0\n",
       "CreditScoreRangeLower                    591\n",
       "CreditScoreRangeUpper                    591\n",
       "FirstRecordedCreditLine                  697\n",
       "CurrentCreditLines                      7604\n",
       "OpenCreditLines                         7604\n",
       "TotalCreditLinespast7years               697\n",
       "OpenRevolvingAccounts                      0\n",
       "OpenRevolvingMonthlyPayment                0\n",
       "InquiriesLast6Months                     697\n",
       "TotalInquiries                          1159\n",
       "CurrentDelinquencies                     697\n",
       "AmountDelinquent                        7622\n",
       "DelinquenciesLast7Years                  990\n",
       "PublicRecordsLast10Years                 697\n",
       "PublicRecordsLast12Months               7604\n",
       "RevolvingCreditBalance                  7604\n",
       "BankcardUtilization                     7604\n",
       "AvailableBankcardCredit                 7544\n",
       "TotalTrades                             7544\n",
       "TradesNeverDelinquent (percentage)      7544\n",
       "TradesOpenedLast6Months                 7544\n",
       "DebtToIncomeRatio                       8472\n",
       "IncomeRange                                0\n",
       "IncomeVerifiable                           0\n",
       "StatedMonthlyIncome                        0\n",
       "LoanKey                                    0\n",
       "TotalProsperLoans                      91143\n",
       "TotalProsperPaymentsBilled             91143\n",
       "OnTimeProsperPayments                  91143\n",
       "ProsperPaymentsLessThanOneMonthLate    91143\n",
       "ProsperPaymentsOneMonthPlusLate        91143\n",
       "ProsperPrincipalBorrowed               91143\n",
       "ProsperPrincipalOutstanding            91143\n",
       "ScorexChangeAtTimeOfListing            94154\n",
       "LoanCurrentDaysDelinquent                  0\n",
       "LoanFirstDefaultedCycleNumber          96114\n",
       "LoanMonthsSinceOrigination                 0\n",
       "LoanNumber                                 0\n",
       "LoanOriginalAmount                         0\n",
       "LoanOriginationDate                        0\n",
       "LoanOriginationQuarter                     0\n",
       "MemberKey                                  0\n",
       "MonthlyLoanPayment                         0\n",
       "LP_CustomerPayments                        0\n",
       "LP_CustomerPrincipalPayments               0\n",
       "LP_InterestandFees                         0\n",
       "LP_ServiceFees                             0\n",
       "LP_CollectionFees                          0\n",
       "LP_GrossPrincipalLoss                      0\n",
       "LP_NetPrincipalLoss                        0\n",
       "LP_NonPrincipalRecoverypayments            0\n",
       "PercentFunded                              0\n",
       "Recommendations                            0\n",
       "InvestmentFromFriendsCount                 0\n",
       "InvestmentFromFriendsAmount                0\n",
       "Investors                                  0\n",
       "AvgProsperScore                        29084\n",
       "dtype: int64"
      ]
     },
     "execution_count": 74,
     "metadata": {},
     "output_type": "execute_result"
    }
   ],
   "source": [
    "loan_df.isnull().sum()"
   ]
  },
  {
   "cell_type": "code",
   "execution_count": 20,
   "metadata": {},
   "outputs": [
    {
     "data": {
      "text/plain": [
       "0"
      ]
     },
     "execution_count": 20,
     "metadata": {},
     "output_type": "execute_result"
    }
   ],
   "source": [
    "# Let us check whether there are no duplicate values\n",
    "loan_df.duplicated().sum()"
   ]
  },
  {
   "cell_type": "code",
   "execution_count": 73,
   "metadata": {},
   "outputs": [
    {
     "data": {
      "text/plain": [
       "(113066, 81)"
      ]
     },
     "execution_count": 73,
     "metadata": {},
     "output_type": "execute_result"
    }
   ],
   "source": [
    "loan_df.shape"
   ]
  },
  {
   "cell_type": "markdown",
   "metadata": {},
   "source": [
    "According to WikiPedia, Prosper Marketplace, Inc. is a San Francisco, California-based company in the peer-to-peer lending industry. Prosper Funding LLC, one of its subsidiaries, operates Prosper.com, a website where individuals can either invest in personal loans or request to borrow money"
   ]
  },
  {
   "cell_type": "markdown",
   "metadata": {},
   "source": [
    "### What is the structure of your dataset?\n",
    "The Prosper Loan data contains over 113,000 records of loans with 81 attributes for each record. From preliminary wrangling, all the null values in the data appear for relevant reasons and do not need to be cleaned/imputed except when requied. \n",
    "\n",
    "### What is/are the main feature(s) of interest in your dataset?\n",
    "\n",
    "My main features of interest are the Borrower APR (Annual Percentage Rate) and the LoanStatus. Concretely, are there certain features or patterns that affect the Borrower APR? What features greatly contribute to the eventual status of the loan?\n",
    "\n",
    "### What features in the dataset do you think will help support your investigation into your feature(s) of interest?\n",
    "\n",
    "Going on, I think the Original loan amount, number of investors (or lenders), borrower rate, the borrower's qualities as regards whether they are a home owner or not, their occupation, employment status, and even more features, would be invaluable to my investigation."
   ]
  },
  {
   "cell_type": "code",
   "execution_count": 5,
   "metadata": {},
   "outputs": [],
   "source": [
    "categorical_prosper_rating = pd.CategoricalDtype(categories=['HR', 'E', 'D', 'C', 'B', 'A', 'AA'], ordered=True)\n",
    "categorical_term = pd.CategoricalDtype(categories=[60, 36, 12], ordered=True)\n",
    "\n",
    "loan_df['ProsperRating (Alpha)'] = loan_df['ProsperRating (Alpha)'].astype(categorical_prosper_rating)\n",
    "loan_df['Term'] = loan_df['Term'].astype(categorical_term)"
   ]
  },
  {
   "cell_type": "markdown",
   "metadata": {},
   "source": [
    "## Univariate Exploration\n",
    "\n",
    "> In this section, investigate distributions of individual variables. If\n",
    "you see unusual points or outliers, take a deeper look to clean things up\n",
    "and prepare yourself to look at relationships between variables.\n",
    "\n",
    "\n",
    "> **Rubric Tip**: The project (Parts I alone) should have at least 15 visualizations distributed over univariate, bivariate, and multivariate plots to explore many relationships in the data set.  Use reasoning to justify the flow of the exploration.\n",
    "\n",
    "\n",
    "\n",
    ">**Rubric Tip**: Use the \"Question-Visualization-Observations\" framework  throughout the exploration. This framework involves **asking a question from the data, creating a visualization to find answers, and then recording observations after each visualisation.** "
   ]
  },
  {
   "cell_type": "code",
   "execution_count": 6,
   "metadata": {},
   "outputs": [],
   "source": [
    "# set one color to use when we do not need seaborn's multiple colors in the plot\n",
    "sns_color = sns.color_palette()[0]"
   ]
  },
  {
   "cell_type": "code",
   "execution_count": 44,
   "metadata": {},
   "outputs": [
    {
     "data": {
      "image/png": "[encoded data removed]",
      "text/plain": [
       "<Figure size 720x432 with 1 Axes>"
      ]
     },
     "metadata": {
      "needs_background": "light"
     },
     "output_type": "display_data"
    }
   ],
   "source": [
    "plt.figure(figsize=(10, 6))\n",
    "sns.countplot(data=loan_df, y='LoanStatus', color=sns_color);"
   ]
  },
  {
   "cell_type": "markdown",
   "metadata": {},
   "source": [
    "Since I am particularly interested in the outcome of the loan status, it might be helpful to actually subset the data so that current loan statuses are filtered out. Then, we can focus on those loan statuses that have either been already completed or not. "
   ]
  },
  {
   "cell_type": "code",
   "execution_count": 78,
   "metadata": {},
   "outputs": [
    {
     "data": {
      "text/plain": [
       "count    113041.000000\n",
       "mean          0.218980\n",
       "std           0.080483\n",
       "min           0.006530\n",
       "25%           0.156290\n",
       "50%           0.209840\n",
       "75%           0.283860\n",
       "max           0.512290\n",
       "Name: BorrowerAPR, dtype: float64"
      ]
     },
     "execution_count": 78,
     "metadata": {},
     "output_type": "execute_result"
    }
   ],
   "source": [
    "loan_df.BorrowerAPR.describe()"
   ]
  },
  {
   "cell_type": "code",
   "execution_count": 80,
   "metadata": {},
   "outputs": [
    {
     "data": {
      "image/png": "[encoded data removed]",
      "text/plain": [
       "<Figure size 547.2x360 with 1 Axes>"
      ]
     },
     "metadata": {
      "needs_background": "light"
     },
     "output_type": "display_data"
    }
   ],
   "source": [
    "fig, ax = plt.subplots(figsize=(7.6, 5))\n",
    "\n",
    "bins = np.arange(0, 0.53, 0.04)\n",
    "ax.hist(loan_df['BorrowerAPR'], bins=bins);"
   ]
  },
  {
   "cell_type": "markdown",
   "metadata": {},
   "source": [
    "The Borrower Annual Percentage Rate (APR henceforth) almost follows a normal distribution. There is nothing particularly unusual about this except that I think an annual percentage rate of around 0.5 is quite high, which implies that in some cases, the interest on the loan increases by 50% of the original loan amount each year! There might be some interesting relationships waiting to be uncovered as we move on."
   ]
  },
  {
   "cell_type": "code",
   "execution_count": 16,
   "metadata": {},
   "outputs": [],
   "source": [
    "normalized_count_of_emp_status = loan_df['EmploymentStatus'].value_counts(normalize=True).reset_index()"
   ]
  },
  {
   "cell_type": "code",
   "execution_count": 17,
   "metadata": {},
   "outputs": [
    {
     "data": {
      "image/png": "[encoded data removed]",
      "text/plain": [
       "<Figure size 432x288 with 1 Axes>"
      ]
     },
     "metadata": {
      "needs_background": "light"
     },
     "output_type": "display_data"
    }
   ],
   "source": [
    "sns.barplot(data=normalized_count_of_emp_status, x='EmploymentStatus', y='index', color=sns_color);"
   ]
  },
  {
   "cell_type": "markdown",
   "metadata": {},
   "source": [
    "Majority of the borrowers are employed. Concretely, Employed people constitute **60%** of the borrowers. This makes sense, since anyone opting for a loan, should in theory, have some means to pay it back. Retirees and unemployed persons form only **1.4%** of this population."
   ]
  },
  {
   "cell_type": "code",
   "execution_count": 25,
   "metadata": {},
   "outputs": [
    {
     "data": {
      "image/png": "[encoded data removed]",
      "text/plain": [
       "<Figure size 576x360 with 1 Axes>"
      ]
     },
     "metadata": {
      "needs_background": "light"
     },
     "output_type": "display_data"
    }
   ],
   "source": [
    "plt.figure(figsize=(8, 5))\n",
    "bins = np.arange(1000, 36000, 500)\n",
    "loan_df['LoanOriginalAmount'].hist(bins=bins)\n",
    "\n",
    "plt.xticks([2.5e3, 5e3, 10e3, 15e3, 20e3, 25e3, 30e3, 35e3], ['2.5k', '5k', '10k', '15k', '20k', '25k', '30k', '35k']);"
   ]
  },
  {
   "cell_type": "markdown",
   "metadata": {},
   "source": [
    "The spikes in the histogram reveal that most loans are usually procured in multiples of 5,000. Thus, it is more likely to come across a loan amount of $15,000 than it is to come across 12000 USD."
   ]
  },
  {
   "cell_type": "code",
   "execution_count": 113,
   "metadata": {},
   "outputs": [
    {
     "data": {
      "text/plain": [
       "<AxesSubplot:>"
      ]
     },
     "execution_count": 113,
     "metadata": {},
     "output_type": "execute_result"
    },
    {
     "data": {
      "image/png": "[encoded data removed]",
      "text/plain": [
       "<Figure size 432x288 with 1 Axes>"
      ]
     },
     "metadata": {
      "needs_background": "light"
     },
     "output_type": "display_data"
    }
   ],
   "source": [
    "loan_df['StatedMonthlyIncome'].hist()"
   ]
  },
  {
   "cell_type": "code",
   "execution_count": 54,
   "metadata": {},
   "outputs": [
    {
     "data": {
      "image/png": "[encoded data removed]",
      "text/plain": [
       "<Figure size 576x432 with 1 Axes>"
      ]
     },
     "metadata": {
      "needs_background": "light"
     },
     "output_type": "display_data"
    }
   ],
   "source": [
    "fig, ax = plt.subplots(figsize=(8, 6))\n",
    "\n",
    "sns.countplot(data=loan_df, y='IncomeRange', color=sns_color, ax=ax);"
   ]
  },
  {
   "cell_type": "markdown",
   "metadata": {},
   "source": [
    "Most of the borrowers earn between 25k to 75k USD; a good number of them also earn more than this. This is consistent what what we saw earlier that a large proportion of the borrowers are employed. Relatively few are unemployed and earn nothing. This discovery begins to motivate the question that why do are people who earn over 100k USD still applying for loans?"
   ]
  },
  {
   "cell_type": "code",
   "execution_count": 111,
   "metadata": {},
   "outputs": [
    {
     "data": {
      "text/plain": [
       "<AxesSubplot:>"
      ]
     },
     "execution_count": 111,
     "metadata": {},
     "output_type": "execute_result"
    },
    {
     "data": {
      "image/png": "[encoded data removed]",
      "text/plain": [
       "<Figure size 432x288 with 1 Axes>"
      ]
     },
     "metadata": {
      "needs_background": "light"
     },
     "output_type": "display_data"
    }
   ],
   "source": [
    "loan_df['DebtToIncomeRatio'].plot(kind='box')"
   ]
  },
  {
   "cell_type": "code",
   "execution_count": 132,
   "metadata": {},
   "outputs": [
    {
     "data": {
      "text/plain": [
       "array(['Completed', 'Current', 'Past Due (1-15 days)', 'Defaulted',\n",
       "       'Chargedoff', 'Past Due (16-30 days)', 'Cancelled',\n",
       "       'Past Due (61-90 days)', 'Past Due (31-60 days)',\n",
       "       'Past Due (91-120 days)', 'FinalPaymentInProgress',\n",
       "       'Past Due (>120 days)'], dtype=object)"
      ]
     },
     "execution_count": 132,
     "metadata": {},
     "output_type": "execute_result"
    }
   ],
   "source": [
    "loan_df['LoanStatus'].unique()"
   ]
  },
  {
   "cell_type": "code",
   "execution_count": 45,
   "metadata": {},
   "outputs": [],
   "source": [
    "loan_statuses_of_interest = ['Completed', 'Past Due (1-15 days)', 'Defaulted', 'Chargedoff', 'Past Due (16-30 days)',\n",
    "                            'Past Due (61-90 days)', 'Past Due (31-60 days)', 'Past Due (91-120 days)',\n",
    "                             'FinalPaymentInProgress', 'Past Due (>120 days)']"
   ]
  },
  {
   "cell_type": "code",
   "execution_count": 46,
   "metadata": {},
   "outputs": [],
   "source": [
    "loan_df = loan_df.loc[loan_df['LoanStatus'].isin(loan_statuses_of_interest), :]"
   ]
  },
  {
   "cell_type": "code",
   "execution_count": 48,
   "metadata": {},
   "outputs": [],
   "source": [
    "loan_df['LoanStatus'] = loan_df['LoanStatus'].replace({'Past Due (1-15 days)': 'Past Due (1-30 days)', \n",
    "                                   'Past Due (16-30 days)': 'Past Due (1-30 days)', \n",
    "                                   'Past Due (31-60 days)': '1 Month & Above',\n",
    "                                   'Past Due (61-90 days)': '1 Month & Above',\n",
    "                                   'Past Due (91-120 days)': '1 Month & Above',\n",
    "                                   'Past Due (>120 days)': '1 Month & Above'})"
   ]
  },
  {
   "cell_type": "code",
   "execution_count": 49,
   "metadata": {},
   "outputs": [
    {
     "data": {
      "image/png": "[encoded data removed]",
      "text/plain": [
       "<Figure size 720x432 with 1 Axes>"
      ]
     },
     "metadata": {
      "needs_background": "light"
     },
     "output_type": "display_data"
    }
   ],
   "source": [
    "plt.figure(figsize=(10, 6))\n",
    "sns.countplot(data=loan_df, y='LoanStatus', color=sns_color);"
   ]
  },
  {
   "cell_type": "markdown",
   "metadata": {},
   "source": [
    "\n",
    "\n",
    ">**Rubric Tip**: Visualizations should depict the data appropriately so that the plots are easily interpretable. You should choose an appropriate plot type, data encodings, and formatting as needed. The formatting may include setting/adding the title, labels, legend, and comments. Also, do not overplot or incorrectly plot ordinal data."
   ]
  },
  {
   "cell_type": "code",
   "execution_count": 95,
   "metadata": {},
   "outputs": [
    {
     "data": {
      "text/plain": [
       "count    113066.000000\n",
       "mean        271.932742\n",
       "std         192.549979\n",
       "min           0.000000\n",
       "25%         130.950000\n",
       "50%         217.370000\n",
       "75%         370.570000\n",
       "max        2251.510000\n",
       "Name: MonthlyLoanPayment, dtype: float64"
      ]
     },
     "execution_count": 95,
     "metadata": {},
     "output_type": "execute_result"
    }
   ],
   "source": [
    "loan_df['MonthlyLoanPayment'].describe()"
   ]
  },
  {
   "cell_type": "code",
   "execution_count": 50,
   "metadata": {},
   "outputs": [
    {
     "data": {
      "image/png": "[encoded data removed]",
      "text/plain": [
       "<Figure size 432x288 with 1 Axes>"
      ]
     },
     "metadata": {
      "needs_background": "light"
     },
     "output_type": "display_data"
    }
   ],
   "source": [
    "fig, ax = plt.subplots()\n",
    "\n",
    "plt.hist(loan_df['MonthlyLoanPayment']);"
   ]
  },
  {
   "cell_type": "code",
   "execution_count": 27,
   "metadata": {},
   "outputs": [
    {
     "data": {
      "image/png": "[encoded data removed]",
      "text/plain": [
       "<Figure size 432x288 with 1 Axes>"
      ]
     },
     "metadata": {
      "needs_background": "light"
     },
     "output_type": "display_data"
    }
   ],
   "source": [
    "sns.violinplot(data=loan_df, x='MonthlyLoanPayment');"
   ]
  },
  {
   "cell_type": "code",
   "execution_count": 58,
   "metadata": {},
   "outputs": [
    {
     "data": {
      "text/plain": [
       "36    87778\n",
       "60    24545\n",
       "12     1614\n",
       "Name: Term, dtype: int64"
      ]
     },
     "execution_count": 58,
     "metadata": {},
     "output_type": "execute_result"
    }
   ],
   "source": [
    "loan_df['Term'].value_counts()"
   ]
  },
  {
   "cell_type": "markdown",
   "metadata": {},
   "source": [
    "Loan terms are usually for 1, 3, or 5 years, and I strongly believe this would be dependent on how much is being loaned out. In fact, I begin to hypothesize that loan terms play a role in the outcome of the loan's status. It could be that a borrower who is still unable to pay a loan after 5 years is more likely to default than one whose loan term is just a year. "
   ]
  },
  {
   "cell_type": "code",
   "execution_count": 60,
   "metadata": {},
   "outputs": [
    {
     "data": {
      "text/plain": [
       "C     18345\n",
       "B     15581\n",
       "A     14551\n",
       "D     14274\n",
       "E      9795\n",
       "HR     6935\n",
       "AA     5372\n",
       "Name: ProsperRating (Alpha), dtype: int64"
      ]
     },
     "execution_count": 60,
     "metadata": {},
     "output_type": "execute_result"
    }
   ],
   "source": [
    "loan_df['ProsperRating (Alpha)'].value_counts()"
   ]
  },
  {
   "cell_type": "code",
   "execution_count": 59,
   "metadata": {},
   "outputs": [
    {
     "data": {
      "text/plain": [
       "count    113937.000000\n",
       "mean          0.998584\n",
       "std           0.017919\n",
       "min           0.700000\n",
       "25%           1.000000\n",
       "50%           1.000000\n",
       "75%           1.000000\n",
       "max           1.012500\n",
       "Name: PercentFunded, dtype: float64"
      ]
     },
     "execution_count": 59,
     "metadata": {},
     "output_type": "execute_result"
    }
   ],
   "source": [
    "loan_df['PercentFunded'].describe()"
   ]
  },
  {
   "cell_type": "code",
   "execution_count": 61,
   "metadata": {},
   "outputs": [
    {
     "data": {
      "text/plain": [
       "count    113937.000000\n",
       "mean          0.023460\n",
       "std           0.232412\n",
       "min           0.000000\n",
       "25%           0.000000\n",
       "50%           0.000000\n",
       "75%           0.000000\n",
       "max          33.000000\n",
       "Name: InvestmentFromFriendsCount, dtype: float64"
      ]
     },
     "execution_count": 61,
     "metadata": {},
     "output_type": "execute_result"
    }
   ],
   "source": [
    "loan_df['InvestmentFromFriendsCount'].describe()"
   ]
  },
  {
   "cell_type": "markdown",
   "metadata": {},
   "source": [
    "### Discuss the distribution(s) of your variable(s) of interest. Were there any unusual points? Did you need to perform any transformations?\n",
    "\n",
    "> Your answer here!\n",
    "\n",
    "### Of the features you investigated, were there any unusual distributions? Did you perform any operations on the data to tidy, adjust, or change the form of the data? If so, why did you do this?\n",
    "\n",
    "> Your answer here!"
   ]
  },
  {
   "cell_type": "markdown",
   "metadata": {},
   "source": [
    "## Bivariate Exploration\n",
    "\n",
    "> In this section, investigate relationships between pairs of variables in your\n",
    "data. Make sure the variables that you cover here have been introduced in some\n",
    "fashion in the previous section (univariate exploration)."
   ]
  },
  {
   "cell_type": "markdown",
   "metadata": {},
   "source": [
    "Let's explore the relationship between the APR and the ProsperRating. Recall that the order of the Prosper Rating, from good to bad is: **AA > A > B > C > D > E > HR**"
   ]
  },
  {
   "cell_type": "code",
   "execution_count": 109,
   "metadata": {},
   "outputs": [],
   "source": [
    "features_of_interest = ['BorrowerAPR', 'AmountDelinquent', 'Term', 'ProsperScore', 'MonthlyLoanPayment']\n",
    "\n",
    "pair_features = loan_df[features_of_interest]"
   ]
  },
  {
   "cell_type": "code",
   "execution_count": 111,
   "metadata": {},
   "outputs": [
    {
     "data": {
      "text/plain": [
       "<seaborn.axisgrid.PairGrid at 0x14e806eeaf0>"
      ]
     },
     "execution_count": 111,
     "metadata": {},
     "output_type": "execute_result"
    },
    {
     "data": {
      "image/png": "[encoded data removed]",
      "text/plain": [
       "<Figure size 720x720 with 20 Axes>"
      ]
     },
     "metadata": {
      "needs_background": "light"
     },
     "output_type": "display_data"
    }
   ],
   "source": [
    "pair_grid = sns.PairGrid(pair_features)\n",
    "pair_grid.map_diag(plt.hist)\n",
    "pair_grid.map_offdiag(plt.scatter, s=4)"
   ]
  },
  {
   "cell_type": "code",
   "execution_count": 108,
   "metadata": {},
   "outputs": [
    {
     "data": {
      "image/png": "[encoded data removed]",
      "text/plain": [
       "<Figure size 720x360 with 1 Axes>"
      ]
     },
     "metadata": {
      "needs_background": "light"
     },
     "output_type": "display_data"
    }
   ],
   "source": [
    "fig, ax = plt.subplots(figsize=(10, 5))\n",
    "\n",
    "sns.boxplot(y='ProsperRating (Alpha)', x='BorrowerAPR', data=loan_df, ax=ax, color=sns_color,);"
   ]
  },
  {
   "cell_type": "code",
   "execution_count": 99,
   "metadata": {},
   "outputs": [],
   "source": [
    "group = (loan_df.groupby(by='ProsperRating (Alpha)')['LoanStatus']\n",
    "         .value_counts(normalize=True)\n",
    "         .rename('Proportion')\n",
    "         .reset_index())\n",
    "\n",
    "group = group[ group['LoanStatus'].str.contains('Past', regex=False)]"
   ]
  },
  {
   "cell_type": "code",
   "execution_count": 102,
   "metadata": {},
   "outputs": [
    {
     "data": {
      "text/plain": [
       "ProsperRating (Alpha)\n",
       "HR    0.041673\n",
       "E     0.038285\n",
       "D     0.032016\n",
       "C     0.026656\n",
       "B     0.017842\n",
       "A     0.010583\n",
       "AA    0.004654\n",
       "Name: Proportion, dtype: float64"
      ]
     },
     "execution_count": 102,
     "metadata": {},
     "output_type": "execute_result"
    }
   ],
   "source": [
    "group.sort_values(by=['ProsperRating (Alpha)', 'Proportion'], ascending=[True, False]).groupby(by='ProsperRating (Alpha)')['Proportion'].sum()"
   ]
  },
  {
   "cell_type": "code",
   "execution_count": 107,
   "metadata": {},
   "outputs": [
    {
     "data": {
      "text/plain": [
       "<AxesSubplot:xlabel='Term', ylabel='BorrowerAPR'>"
      ]
     },
     "execution_count": 107,
     "metadata": {},
     "output_type": "execute_result"
    },
    {
     "data": {
      "image/png": "[encoded data removed]",
      "text/plain": [
       "<Figure size 432x288 with 1 Axes>"
      ]
     },
     "metadata": {
      "needs_background": "light"
     },
     "output_type": "display_data"
    }
   ],
   "source": [
    "sns.boxplot(data=loan_df, x='Term', y='BorrowerAPR',)"
   ]
  },
  {
   "cell_type": "code",
   "execution_count": 142,
   "metadata": {},
   "outputs": [
    {
     "data": {
      "image/png": "[encoded data removed]",
      "text/plain": [
       "<Figure size 720x360 with 1 Axes>"
      ]
     },
     "metadata": {
      "needs_background": "light"
     },
     "output_type": "display_data"
    }
   ],
   "source": [
    "fig, ax = plt.subplots(figsize=(10, 5))\n",
    "\n",
    "sns.violinplot(y='LoanStatus', x='LoanOriginalAmount', data=loan_df, ax=ax, inner='quartile', color=sns_color);"
   ]
  },
  {
   "cell_type": "code",
   "execution_count": 117,
   "metadata": {},
   "outputs": [
    {
     "data": {
      "image/png": "[encoded data removed]",
      "text/plain": [
       "<Figure size 432x288 with 1 Axes>"
      ]
     },
     "metadata": {
      "needs_background": "light"
     },
     "output_type": "display_data"
    }
   ],
   "source": [
    "sns.scatterplot(data=loan_df[loan_df['StatedMonthlyIncome'] <= 0.2e6], x='StatedMonthlyIncome', y='LoanOriginalAmount');"
   ]
  },
  {
   "cell_type": "code",
   "execution_count": 112,
   "metadata": {},
   "outputs": [
    {
     "data": {
      "text/plain": [
       "<AxesSubplot:xlabel='DebtToIncomeRatio', ylabel='BorrowerAPR'>"
      ]
     },
     "execution_count": 112,
     "metadata": {},
     "output_type": "execute_result"
    },
    {
     "data": {
      "image/png": "[encoded data removed]",
      "text/plain": [
       "<Figure size 432x288 with 1 Axes>"
      ]
     },
     "metadata": {
      "needs_background": "light"
     },
     "output_type": "display_data"
    }
   ],
   "source": [
    "sns.scatterplot(data=loan_df, x='DebtToIncomeRatio', y='BorrowerAPR', s=3)"
   ]
  },
  {
   "cell_type": "markdown",
   "metadata": {},
   "source": [
    "### Talk about some of the relationships you observed in this part of the investigation. How did the feature(s) of interest vary with other features in the dataset?\n",
    "\n",
    "> Your answer here!\n",
    "\n",
    "### Did you observe any interesting relationships between the other features (not the main feature(s) of interest)?\n",
    "\n",
    "> Your answer here!"
   ]
  },
  {
   "cell_type": "markdown",
   "metadata": {},
   "source": [
    "## Multivariate Exploration\n",
    "\n",
    "> Create plots of three or more variables to investigate your data even\n",
    "further. Make sure that your investigations are justified, and follow from\n",
    "your work in the previous sections."
   ]
  },
  {
   "cell_type": "code",
   "execution_count": null,
   "metadata": {},
   "outputs": [],
   "source": []
  },
  {
   "cell_type": "markdown",
   "metadata": {},
   "source": [
    "### Talk about some of the relationships you observed in this part of the investigation. Were there features that strengthened each other in terms of looking at your feature(s) of interest?\n",
    "\n",
    "> Your answer here!\n",
    "\n",
    "### Were there any interesting or surprising interactions between features?\n",
    "\n",
    "> Your answer here!"
   ]
  },
  {
   "cell_type": "markdown",
   "metadata": {},
   "source": [
    "## Conclusions\n",
    ">You can write a summary of the main findings and reflect on the steps taken during the data exploration.\n"
   ]
  },
  {
   "cell_type": "markdown",
   "metadata": {},
   "source": [
    "\n",
    "> Remove all Tips mentioned above, before you convert this notebook to PDF/HTML\n",
    "\n",
    "\n",
    "> At the end of your report, make sure that you export the notebook as an\n",
    "html file from the `File > Download as... > HTML or PDF` menu. Make sure you keep\n",
    "track of where the exported file goes, so you can put it in the same folder\n",
    "as this notebook for project submission. Also, make sure you remove all of\n",
    "the quote-formatted guide notes like this one before you finish your report!\n",
    "\n"
   ]
  },
  {
   "cell_type": "code",
   "execution_count": null,
   "metadata": {},
   "outputs": [],
   "source": []
  }
 ],
 "metadata": {
  "kernelspec": {
   "display_name": "Python 3 (ipykernel)",
   "language": "python",
   "name": "python3"
  },
  "language_info": {
   "codemirror_mode": {
    "name": "ipython",
    "version": 3
   },
   "file_extension": ".py",
   "mimetype": "text/x-python",
   "name": "python",
   "nbconvert_exporter": "python",
   "pygments_lexer": "ipython3",
   "version": "3.9.12"
  },
  "latex_envs": {
   "LaTeX_envs_menu_present": true,
   "autoclose": false,
   "autocomplete": true,
   "bibliofile": "biblio.bib",
   "cite_by": "apalike",
   "current_citInitial": 1,
   "eqLabelWithNumbers": true,
   "eqNumInitial": 1,
   "hotkeys": {
    "equation": "Ctrl-E",
    "itemize": "Ctrl-I"
   },
   "labels_anchors": false,
   "latex_user_defs": false,
   "report_style_numbering": false,
   "user_envs_cfg": false
  },
  "toc": {
   "base_numbering": 1,
   "nav_menu": {},
   "number_sections": true,
   "sideBar": true,
   "skip_h1_title": false,
   "title_cell": "Table of Contents",
   "title_sidebar": "Contents",
   "toc_cell": false,
   "toc_position": {
    "height": "calc(100% - 180px)",
    "left": "10px",
    "top": "150px",
    "width": "165px"
   },
   "toc_section_display": true,
   "toc_window_display": false
  }
 },
 "nbformat": 4,
 "nbformat_minor": 2
}
